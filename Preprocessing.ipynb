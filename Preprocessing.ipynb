{
 "cells": [
  {
   "cell_type": "code",
   "execution_count": 1,
   "id": "8d5a767d",
   "metadata": {},
   "outputs": [
    {
     "name": "stdout",
     "output_type": "stream",
     "text": [
      "Requirement already satisfied: nltk in c:\\users\\lenovo\\appdata\\local\\programs\\python\\python39\\lib\\site-packages (3.8.1)\n",
      "Requirement already satisfied: joblib in c:\\users\\lenovo\\appdata\\local\\programs\\python\\python39\\lib\\site-packages (from nltk) (1.2.0)\n",
      "Requirement already satisfied: click in c:\\users\\lenovo\\appdata\\local\\programs\\python\\python39\\lib\\site-packages (from nltk) (8.1.3)\n",
      "Requirement already satisfied: tqdm in c:\\users\\lenovo\\appdata\\local\\programs\\python\\python39\\lib\\site-packages (from nltk) (4.65.0)\n",
      "Requirement already satisfied: regex>=2021.8.3 in c:\\users\\lenovo\\appdata\\local\\programs\\python\\python39\\lib\\site-packages (from nltk) (2023.6.3)\n",
      "Requirement already satisfied: colorama in c:\\users\\lenovo\\appdata\\local\\programs\\python\\python39\\lib\\site-packages (from click->nltk) (0.4.6)\n"
     ]
    },
    {
     "name": "stderr",
     "output_type": "stream",
     "text": [
      "\n",
      "[notice] A new release of pip is available: 23.0.1 -> 23.1.2\n",
      "[notice] To update, run: python.exe -m pip install --upgrade pip\n"
     ]
    }
   ],
   "source": [
    "#for installation of nltk library\n",
    "!pip install nltk"
   ]
  },
  {
   "cell_type": "code",
   "execution_count": 2,
   "id": "e98202a9",
   "metadata": {},
   "outputs": [
    {
     "name": "stdout",
     "output_type": "stream",
     "text": [
      "Requirement already satisfied: pandas in c:\\users\\lenovo\\appdata\\local\\programs\\python\\python39\\lib\\site-packages (1.5.1)"
     ]
    },
    {
     "name": "stderr",
     "output_type": "stream",
     "text": [
      "\n",
      "[notice] A new release of pip is available: 23.0.1 -> 23.1.2\n",
      "[notice] To update, run: python.exe -m pip install --upgrade pip\n"
     ]
    },
    {
     "name": "stdout",
     "output_type": "stream",
     "text": [
      "\n",
      "Requirement already satisfied: pytz>=2020.1 in c:\\users\\lenovo\\appdata\\local\\programs\\python\\python39\\lib\\site-packages (from pandas) (2022.6)\n",
      "Requirement already satisfied: numpy>=1.20.3 in c:\\users\\lenovo\\appdata\\local\\programs\\python\\python39\\lib\\site-packages (from pandas) (1.23.4)\n",
      "Requirement already satisfied: python-dateutil>=2.8.1 in c:\\users\\lenovo\\appdata\\local\\programs\\python\\python39\\lib\\site-packages (from pandas) (2.8.2)\n",
      "Requirement already satisfied: six>=1.5 in c:\\users\\lenovo\\appdata\\local\\programs\\python\\python39\\lib\\site-packages (from python-dateutil>=2.8.1->pandas) (1.16.0)\n"
     ]
    }
   ],
   "source": [
    "#for reading writing csv file\n",
    "!pip install pandas"
   ]
  },
  {
   "cell_type": "code",
   "execution_count": 3,
   "id": "6e752d61",
   "metadata": {},
   "outputs": [],
   "source": [
    "#importing the libraries\n",
    "import nltk\n",
    "# Preprocessing\n",
    "import re\n",
    "\n",
    "#for my ease, I download all nltk package to my local computer and set the path to nltk\n",
    "nltk.data.path.append(\"F:/Coding Backups/Freelance Related/Python\\Python Learning/NLTK All Packages\")\n",
    "\n",
    "from nltk.corpus import stopwords,wordnet\n",
    "stop_words = stopwords.words('english')\n",
    "from nltk.tokenize import word_tokenize\n",
    "from nltk.stem import WordNetLemmatizer\n",
    "wlt = WordNetLemmatizer()\n",
    "import pandas as pd\n"
   ]
  },
  {
   "cell_type": "code",
   "execution_count": 4,
   "id": "4cfa5585",
   "metadata": {},
   "outputs": [],
   "source": [
    "#read the csv file\n",
    "data_file = pd.read_csv('chat_dataset_csv.csv')"
   ]
  },
  {
   "cell_type": "code",
   "execution_count": 5,
   "id": "4a4ba8f6",
   "metadata": {},
   "outputs": [
    {
     "data": {
      "text/html": [
       "<div>\n",
       "<style scoped>\n",
       "    .dataframe tbody tr th:only-of-type {\n",
       "        vertical-align: middle;\n",
       "    }\n",
       "\n",
       "    .dataframe tbody tr th {\n",
       "        vertical-align: top;\n",
       "    }\n",
       "\n",
       "    .dataframe thead th {\n",
       "        text-align: right;\n",
       "    }\n",
       "</style>\n",
       "<table border=\"1\" class=\"dataframe\">\n",
       "  <thead>\n",
       "    <tr style=\"text-align: right;\">\n",
       "      <th></th>\n",
       "      <th>Created-At</th>\n",
       "      <th>From-User</th>\n",
       "      <th>From-User-Id</th>\n",
       "      <th>To-User</th>\n",
       "      <th>To-User-Id</th>\n",
       "      <th>Language</th>\n",
       "      <th>Source</th>\n",
       "      <th>Text</th>\n",
       "      <th>Geo-Location-Latitude</th>\n",
       "      <th>Geo-Location-Longitude</th>\n",
       "      <th>Retweet-Count</th>\n",
       "      <th>Id</th>\n",
       "    </tr>\n",
       "  </thead>\n",
       "  <tbody>\n",
       "    <tr>\n",
       "      <th>0</th>\n",
       "      <td>2023-05-08 17:14:15</td>\n",
       "      <td>Paul.ai</td>\n",
       "      <td>1584941134203289601</td>\n",
       "      <td>NaN</td>\n",
       "      <td>-1</td>\n",
       "      <td>en</td>\n",
       "      <td>&lt;a href=\"https://mobile.twitter.com\" rel=\"nofo...</td>\n",
       "      <td>IBM just fired 7,800 people because of AI. Goo...</td>\n",
       "      <td>NaN</td>\n",
       "      <td>NaN</td>\n",
       "      <td>1072.0</td>\n",
       "      <td>1655561751524524034</td>\n",
       "    </tr>\n",
       "    <tr>\n",
       "      <th>1</th>\n",
       "      <td>2023-05-08 19:24:08</td>\n",
       "      <td>Chamath Palihapitiya</td>\n",
       "      <td>3291691</td>\n",
       "      <td>NaN</td>\n",
       "      <td>-1</td>\n",
       "      <td>en</td>\n",
       "      <td>&lt;a href=\"http://twitter.com/download/iphone\" r...</td>\n",
       "      <td>You may be surprised to know that ChatGPT’s be...</td>\n",
       "      <td>NaN</td>\n",
       "      <td>NaN</td>\n",
       "      <td>411.0</td>\n",
       "      <td>1655594440621260801</td>\n",
       "    </tr>\n",
       "    <tr>\n",
       "      <th>2</th>\n",
       "      <td>2023-05-08 18:00:21</td>\n",
       "      <td>Dan</td>\n",
       "      <td>374464187</td>\n",
       "      <td>NaN</td>\n",
       "      <td>-1</td>\n",
       "      <td>en</td>\n",
       "      <td>&lt;a href=\"https://tweethunter.io\" rel=\"nofollow...</td>\n",
       "      <td>Just created a 'Creativity Stack' for ChatGPT\\...</td>\n",
       "      <td>NaN</td>\n",
       "      <td>NaN</td>\n",
       "      <td>335.0</td>\n",
       "      <td>1655573356668764163</td>\n",
       "    </tr>\n",
       "    <tr>\n",
       "      <th>3</th>\n",
       "      <td>2023-05-09 15:08:51</td>\n",
       "      <td>Starknet Family</td>\n",
       "      <td>1645122612622680072</td>\n",
       "      <td>NaN</td>\n",
       "      <td>-1</td>\n",
       "      <td>en</td>\n",
       "      <td>&lt;a href=\"https://mobile.twitter.com\" rel=\"nofo...</td>\n",
       "      <td>RT @thehiddenmaze: ChatGPT is no longer the ki...</td>\n",
       "      <td>NaN</td>\n",
       "      <td>NaN</td>\n",
       "      <td>43.0</td>\n",
       "      <td>1655892583178989569</td>\n",
       "    </tr>\n",
       "    <tr>\n",
       "      <th>4</th>\n",
       "      <td>2023-05-09 15:08:48</td>\n",
       "      <td>Adunola🌸</td>\n",
       "      <td>1209939791946625025</td>\n",
       "      <td>NaN</td>\n",
       "      <td>-1</td>\n",
       "      <td>en</td>\n",
       "      <td>&lt;a href=\"http://twitter.com/download/iphone\" r...</td>\n",
       "      <td>RT @MuzlimsPostingW: Welcome to Islam, my brot...</td>\n",
       "      <td>NaN</td>\n",
       "      <td>NaN</td>\n",
       "      <td>5994.0</td>\n",
       "      <td>1655892571527294978</td>\n",
       "    </tr>\n",
       "    <tr>\n",
       "      <th>...</th>\n",
       "      <td>...</td>\n",
       "      <td>...</td>\n",
       "      <td>...</td>\n",
       "      <td>...</td>\n",
       "      <td>...</td>\n",
       "      <td>...</td>\n",
       "      <td>...</td>\n",
       "      <td>...</td>\n",
       "      <td>...</td>\n",
       "      <td>...</td>\n",
       "      <td>...</td>\n",
       "      <td>...</td>\n",
       "    </tr>\n",
       "    <tr>\n",
       "      <th>15467</th>\n",
       "      <td>2023-05-08 07:57:20</td>\n",
       "      <td>zariabay</td>\n",
       "      <td>1095913381</td>\n",
       "      <td>NaN</td>\n",
       "      <td>-1</td>\n",
       "      <td>en</td>\n",
       "      <td>&lt;a href=\"http://twitter.com/download/iphone\" r...</td>\n",
       "      <td>RT @backdoor_hiphop: I asked ChatGPT to name t...</td>\n",
       "      <td>NaN</td>\n",
       "      <td>NaN</td>\n",
       "      <td>217.0</td>\n",
       "      <td>1655421601301557249</td>\n",
       "    </tr>\n",
       "    <tr>\n",
       "      <th>15468</th>\n",
       "      <td>2023-05-08 07:57:18</td>\n",
       "      <td>🤔</td>\n",
       "      <td>859091016</td>\n",
       "      <td>OKBJGM</td>\n",
       "      <td>21523946</td>\n",
       "      <td>en</td>\n",
       "      <td>&lt;a href=\"http://twitter.com/download/android\" ...</td>\n",
       "      <td>@OKBJGM \"Hey #ChatGPT. Here is all the materia...</td>\n",
       "      <td>NaN</td>\n",
       "      <td>NaN</td>\n",
       "      <td>0.0</td>\n",
       "      <td>1655421592766382080</td>\n",
       "    </tr>\n",
       "    <tr>\n",
       "      <th>15469</th>\n",
       "      <td>2023-05-08 07:57:15</td>\n",
       "      <td>Jennifer N/a</td>\n",
       "      <td>1488697715936485378</td>\n",
       "      <td>NaN</td>\n",
       "      <td>-1</td>\n",
       "      <td>en</td>\n",
       "      <td>&lt;a href=\"http://twitter.com/download/android\" ...</td>\n",
       "      <td>This was really powerful to read!\\n\\nTechnolog...</td>\n",
       "      <td>NaN</td>\n",
       "      <td>NaN</td>\n",
       "      <td>0.0</td>\n",
       "      <td>1655421580607102976</td>\n",
       "    </tr>\n",
       "    <tr>\n",
       "      <th>15470</th>\n",
       "      <td>2023-05-08 07:57:14</td>\n",
       "      <td>Dan on The Bird App</td>\n",
       "      <td>22703139</td>\n",
       "      <td>NaN</td>\n",
       "      <td>-1</td>\n",
       "      <td>en</td>\n",
       "      <td>&lt;a href=\"https://about.twitter.com/products/tw...</td>\n",
       "      <td>Okay. After fighting with ChatGPT This is what...</td>\n",
       "      <td>NaN</td>\n",
       "      <td>NaN</td>\n",
       "      <td>0.0</td>\n",
       "      <td>1655421577532706816</td>\n",
       "    </tr>\n",
       "    <tr>\n",
       "      <th>15471</th>\n",
       "      <td>2023-05-08 07:57:14</td>\n",
       "      <td>Teja Bandi Dhfm</td>\n",
       "      <td>906881969736138756</td>\n",
       "      <td>NaN</td>\n",
       "      <td>-1</td>\n",
       "      <td>en</td>\n",
       "      <td>&lt;a href=\"http://twitter.com/download/android\" ...</td>\n",
       "      <td>RT @vsr_tejaa: Playing Antyakshari with Chatgp...</td>\n",
       "      <td>NaN</td>\n",
       "      <td>NaN</td>\n",
       "      <td>556.0</td>\n",
       "      <td>1655421576886484992</td>\n",
       "    </tr>\n",
       "  </tbody>\n",
       "</table>\n",
       "<p>15472 rows × 12 columns</p>\n",
       "</div>"
      ],
      "text/plain": [
       "                Created-At             From-User         From-User-Id To-User  \\\n",
       "0      2023-05-08 17:14:15               Paul.ai  1584941134203289601     NaN   \n",
       "1      2023-05-08 19:24:08  Chamath Palihapitiya              3291691     NaN   \n",
       "2      2023-05-08 18:00:21                   Dan            374464187     NaN   \n",
       "3      2023-05-09 15:08:51       Starknet Family  1645122612622680072     NaN   \n",
       "4      2023-05-09 15:08:48              Adunola🌸  1209939791946625025     NaN   \n",
       "...                    ...                   ...                  ...     ...   \n",
       "15467  2023-05-08 07:57:20              zariabay           1095913381     NaN   \n",
       "15468  2023-05-08 07:57:18                     🤔            859091016  OKBJGM   \n",
       "15469  2023-05-08 07:57:15          Jennifer N/a  1488697715936485378     NaN   \n",
       "15470  2023-05-08 07:57:14   Dan on The Bird App             22703139     NaN   \n",
       "15471  2023-05-08 07:57:14       Teja Bandi Dhfm   906881969736138756     NaN   \n",
       "\n",
       "       To-User-Id Language                                             Source  \\\n",
       "0              -1       en  <a href=\"https://mobile.twitter.com\" rel=\"nofo...   \n",
       "1              -1       en  <a href=\"http://twitter.com/download/iphone\" r...   \n",
       "2              -1       en  <a href=\"https://tweethunter.io\" rel=\"nofollow...   \n",
       "3              -1       en  <a href=\"https://mobile.twitter.com\" rel=\"nofo...   \n",
       "4              -1       en  <a href=\"http://twitter.com/download/iphone\" r...   \n",
       "...           ...      ...                                                ...   \n",
       "15467          -1       en  <a href=\"http://twitter.com/download/iphone\" r...   \n",
       "15468    21523946       en  <a href=\"http://twitter.com/download/android\" ...   \n",
       "15469          -1       en  <a href=\"http://twitter.com/download/android\" ...   \n",
       "15470          -1       en  <a href=\"https://about.twitter.com/products/tw...   \n",
       "15471          -1       en  <a href=\"http://twitter.com/download/android\" ...   \n",
       "\n",
       "                                                    Text  \\\n",
       "0      IBM just fired 7,800 people because of AI. Goo...   \n",
       "1      You may be surprised to know that ChatGPT’s be...   \n",
       "2      Just created a 'Creativity Stack' for ChatGPT\\...   \n",
       "3      RT @thehiddenmaze: ChatGPT is no longer the ki...   \n",
       "4      RT @MuzlimsPostingW: Welcome to Islam, my brot...   \n",
       "...                                                  ...   \n",
       "15467  RT @backdoor_hiphop: I asked ChatGPT to name t...   \n",
       "15468  @OKBJGM \"Hey #ChatGPT. Here is all the materia...   \n",
       "15469  This was really powerful to read!\\n\\nTechnolog...   \n",
       "15470  Okay. After fighting with ChatGPT This is what...   \n",
       "15471  RT @vsr_tejaa: Playing Antyakshari with Chatgp...   \n",
       "\n",
       "       Geo-Location-Latitude  Geo-Location-Longitude  Retweet-Count  \\\n",
       "0                        NaN                     NaN         1072.0   \n",
       "1                        NaN                     NaN          411.0   \n",
       "2                        NaN                     NaN          335.0   \n",
       "3                        NaN                     NaN           43.0   \n",
       "4                        NaN                     NaN         5994.0   \n",
       "...                      ...                     ...            ...   \n",
       "15467                    NaN                     NaN          217.0   \n",
       "15468                    NaN                     NaN            0.0   \n",
       "15469                    NaN                     NaN            0.0   \n",
       "15470                    NaN                     NaN            0.0   \n",
       "15471                    NaN                     NaN          556.0   \n",
       "\n",
       "                        Id  \n",
       "0      1655561751524524034  \n",
       "1      1655594440621260801  \n",
       "2      1655573356668764163  \n",
       "3      1655892583178989569  \n",
       "4      1655892571527294978  \n",
       "...                    ...  \n",
       "15467  1655421601301557249  \n",
       "15468  1655421592766382080  \n",
       "15469  1655421580607102976  \n",
       "15470  1655421577532706816  \n",
       "15471  1655421576886484992  \n",
       "\n",
       "[15472 rows x 12 columns]"
      ]
     },
     "execution_count": 5,
     "metadata": {},
     "output_type": "execute_result"
    }
   ],
   "source": [
    "data_file"
   ]
  },
  {
   "cell_type": "code",
   "execution_count": 6,
   "id": "b732bffe",
   "metadata": {},
   "outputs": [],
   "source": [
    "# 01 - remove_URL\n",
    "def remove_URL(text):\n",
    "    url = re.compile(r'https?://\\S+|www\\.\\S+')\n",
    "    return url.sub(r'', text)\n",
    "\n",
    "data_file['Text'] = data_file['Text'].apply(lambda x: remove_URL(x))"
   ]
  },
  {
   "cell_type": "code",
   "execution_count": 7,
   "id": "3d004b61",
   "metadata": {},
   "outputs": [],
   "source": [
    "# 02 - remove_html\n",
    "def remove_html(text):\n",
    "    html = re.compile(r'<.*?>|&([a-z0-9]+|#[0-9]{1,6}|#x[0-9a-f]{1,6});')\n",
    "    return re.sub(html, '', text)\n",
    "\n",
    "\n",
    "data_file['Text'] = data_file['Text'].apply(lambda x: remove_html(x))"
   ]
  },
  {
   "cell_type": "code",
   "execution_count": 8,
   "id": "e6fca0f5",
   "metadata": {},
   "outputs": [],
   "source": [
    "# 03 - remove_punct\n",
    "import string\n",
    "\n",
    "def remove_punct(text):\n",
    "    table = str.maketrans('', '', string.punctuation)\n",
    "    return text.translate(table)\n",
    "\n",
    "\n",
    "data_file['Text'] = data_file['Text'].apply(lambda x: remove_punct(x))"
   ]
  },
  {
   "cell_type": "code",
   "execution_count": 9,
   "id": "b3169c37",
   "metadata": {},
   "outputs": [
    {
     "data": {
      "text/plain": [
       "0        IBM just fired 7800 people because of AI Googl...\n",
       "1        You may be surprised to know that ChatGPT’s be...\n",
       "2        Just created a Creativity Stack for ChatGPT\\n\\...\n",
       "3        RT thehiddenmaze ChatGPT is no longer the king...\n",
       "4        RT MuzlimsPostingW Welcome to Islam my brother...\n",
       "                               ...                        \n",
       "15467    RT backdoorhiphop I asked ChatGPT to name the ...\n",
       "15468    OKBJGM Hey ChatGPT Here is all the material ev...\n",
       "15469    This was really powerful to read\\n\\nTechnology...\n",
       "15470    Okay After fighting with ChatGPT This is what ...\n",
       "15471        RT vsrtejaa Playing Antyakshari with Chatgpt \n",
       "Name: Text, Length: 15472, dtype: object"
      ]
     },
     "execution_count": 9,
     "metadata": {},
     "output_type": "execute_result"
    }
   ],
   "source": [
    "data_file['Text']"
   ]
  },
  {
   "cell_type": "code",
   "execution_count": 10,
   "id": "d64895b9",
   "metadata": {},
   "outputs": [],
   "source": [
    "# 04 - Tokenizing the tweet base texts.\n",
    "data_file['Text'] = data_file['Text'].apply(word_tokenize)"
   ]
  },
  {
   "cell_type": "code",
   "execution_count": 11,
   "id": "e3b26f3a",
   "metadata": {},
   "outputs": [
    {
     "data": {
      "text/plain": [
       "0        [IBM, just, fired, 7800, people, because, of, ...\n",
       "1        [You, may, be, surprised, to, know, that, Chat...\n",
       "2        [Just, created, a, Creativity, Stack, for, Cha...\n",
       "3        [RT, thehiddenmaze, ChatGPT, is, no, longer, t...\n",
       "4        [RT, MuzlimsPostingW, Welcome, to, Islam, my, ...\n",
       "                               ...                        \n",
       "15467    [RT, backdoorhiphop, I, asked, ChatGPT, to, na...\n",
       "15468    [OKBJGM, Hey, ChatGPT, Here, is, all, the, mat...\n",
       "15469    [This, was, really, powerful, to, read, Techno...\n",
       "15470    [Okay, After, fighting, with, ChatGPT, This, i...\n",
       "15471    [RT, vsrtejaa, Playing, Antyakshari, with, Cha...\n",
       "Name: Text, Length: 15472, dtype: object"
      ]
     },
     "execution_count": 11,
     "metadata": {},
     "output_type": "execute_result"
    }
   ],
   "source": [
    "data_file['Text']"
   ]
  },
  {
   "cell_type": "code",
   "execution_count": 12,
   "id": "9585961c",
   "metadata": {},
   "outputs": [],
   "source": [
    "# 05 - lower case\n",
    "data_file['Text'] = data_file['Text'].apply(lambda x: [word.lower() for word in x])"
   ]
  },
  {
   "cell_type": "code",
   "execution_count": 13,
   "id": "2ebf9444",
   "metadata": {},
   "outputs": [],
   "source": [
    "# 06 - stop words removing\n",
    "data_file['Text'] = data_file['Text'].apply(lambda x: [word for word in x if word not in stop_words])"
   ]
  },
  {
   "cell_type": "code",
   "execution_count": 14,
   "id": "49af067e",
   "metadata": {},
   "outputs": [
    {
     "data": {
      "text/plain": [
       "0        [ibm, fired, 7800, people, ai, google, 12000, ...\n",
       "1        [may, surprised, know, chatgpt, ’, beliefs, co...\n",
       "2        [created, creativity, stack, chatgpt, covers, ...\n",
       "3        [rt, thehiddenmaze, chatgpt, longer, king, ai,...\n",
       "4        [rt, muzlimspostingw, welcome, islam, brother,...\n",
       "                               ...                        \n",
       "15467    [rt, backdoorhiphop, asked, chatgpt, name, bes...\n",
       "15468    [okbjgm, hey, chatgpt, material, ever, written...\n",
       "15469    [really, powerful, read, technology, chatgpt, ...\n",
       "15470    [okay, fighting, chatgpt, got, six, goals, six...\n",
       "15471        [rt, vsrtejaa, playing, antyakshari, chatgpt]\n",
       "Name: Text, Length: 15472, dtype: object"
      ]
     },
     "execution_count": 14,
     "metadata": {},
     "output_type": "execute_result"
    }
   ],
   "source": [
    "data_file['Text']"
   ]
  },
  {
   "cell_type": "code",
   "execution_count": 15,
   "id": "1cdffad4",
   "metadata": {},
   "outputs": [],
   "source": [
    "#07 Applying part of speech tags.\n",
    "data_file['Text'] = data_file['Text'].apply(nltk.tag.pos_tag)"
   ]
  },
  {
   "cell_type": "code",
   "execution_count": 16,
   "id": "5f2d7a81",
   "metadata": {},
   "outputs": [
    {
     "data": {
      "text/plain": [
       "0        [(ibm, NN), (fired, VBD), (7800, CD), (people,...\n",
       "1        [(may, MD), (surprised, VBD), (know, VB), (cha...\n",
       "2        [(created, VBN), (creativity, NN), (stack, NN)...\n",
       "3        [(rt, NN), (thehiddenmaze, NN), (chatgpt, NN),...\n",
       "4        [(rt, NN), (muzlimspostingw, VBZ), (welcome, J...\n",
       "                               ...                        \n",
       "15467    [(rt, NN), (backdoorhiphop, NN), (asked, VBD),...\n",
       "15468    [(okbjgm, NN), (hey, NN), (chatgpt, VBP), (mat...\n",
       "15469    [(really, RB), (powerful, JJ), (read, JJ), (te...\n",
       "15470    [(okay, NN), (fighting, VBG), (chatgpt, NN), (...\n",
       "15471    [(rt, NN), (vsrtejaa, NN), (playing, VBG), (an...\n",
       "Name: Text, Length: 15472, dtype: object"
      ]
     },
     "execution_count": 16,
     "metadata": {},
     "output_type": "execute_result"
    }
   ],
   "source": [
    "data_file['Text']"
   ]
  },
  {
   "cell_type": "code",
   "execution_count": 17,
   "id": "e9293afe",
   "metadata": {},
   "outputs": [],
   "source": [
    "#08 wordnet pos\n",
    "def get_wordnet_pos(tag):\n",
    "    if tag.startswith('J'):\n",
    "        return wordnet.ADJ\n",
    "    elif tag.startswith('V'):\n",
    "        return wordnet.VERB\n",
    "    elif tag.startswith('N'):\n",
    "        return wordnet.NOUN\n",
    "    elif tag.startswith('R'):\n",
    "        return wordnet.ADV\n",
    "    else:\n",
    "        return wordnet.NOUN\n",
    "    \n",
    "data_file['Text'] = data_file['Text'].apply(lambda x: [(word, get_wordnet_pos(pos_tag)) for (word, pos_tag) in x])"
   ]
  },
  {
   "cell_type": "code",
   "execution_count": 18,
   "id": "261ee937",
   "metadata": {},
   "outputs": [
    {
     "data": {
      "text/plain": [
       "0        [(ibm, n), (fired, v), (7800, n), (people, n),...\n",
       "1        [(may, n), (surprised, v), (know, v), (chatgpt...\n",
       "2        [(created, v), (creativity, n), (stack, n), (c...\n",
       "3        [(rt, n), (thehiddenmaze, n), (chatgpt, n), (l...\n",
       "4        [(rt, n), (muzlimspostingw, v), (welcome, a), ...\n",
       "                               ...                        \n",
       "15467    [(rt, n), (backdoorhiphop, n), (asked, v), (ch...\n",
       "15468    [(okbjgm, n), (hey, n), (chatgpt, v), (materia...\n",
       "15469    [(really, r), (powerful, a), (read, a), (techn...\n",
       "15470    [(okay, n), (fighting, v), (chatgpt, n), (got,...\n",
       "15471    [(rt, n), (vsrtejaa, n), (playing, v), (antyak...\n",
       "Name: Text, Length: 15472, dtype: object"
      ]
     },
     "execution_count": 18,
     "metadata": {},
     "output_type": "execute_result"
    }
   ],
   "source": [
    "data_file['Text']"
   ]
  },
  {
   "cell_type": "code",
   "execution_count": 19,
   "id": "7f6487dd",
   "metadata": {},
   "outputs": [],
   "source": [
    "# 09 lamatization\n",
    "data_file['Text'] = data_file['Text'].apply(lambda x: [wlt.lemmatize(word, tag) for word, tag in x])\n",
    "data_file['Text'] = [' '.join(map(str, l)) for l in data_file['Text']]"
   ]
  },
  {
   "cell_type": "code",
   "execution_count": 20,
   "id": "ea3e6bb1",
   "metadata": {},
   "outputs": [
    {
     "data": {
      "text/plain": [
       "0        ibm fire 7800 people ai google 12000 microsoft...\n",
       "1        may surprise know chatgpt ’ belief communism d...\n",
       "2        create creativity stack chatgpt cover • write ...\n",
       "3        rt thehiddenmaze chatgpt longer king ai chrome...\n",
       "4         rt muzlimspostingw welcome islam brother chatgpt\n",
       "                               ...                        \n",
       "15467    rt backdoorhiphop ask chatgpt name best rap du...\n",
       "15468    okbjgm hey chatgpt material ever write javier ...\n",
       "15469    really powerful read technology chatgpt use ch...\n",
       "15470    okay fight chatgpt get six goal six goal score...\n",
       "15471                 rt vsrtejaa play antyakshari chatgpt\n",
       "Name: Text, Length: 15472, dtype: object"
      ]
     },
     "execution_count": 20,
     "metadata": {},
     "output_type": "execute_result"
    }
   ],
   "source": [
    "data_file['Text']"
   ]
  },
  {
   "cell_type": "code",
   "execution_count": null,
   "id": "9e4fb9ad",
   "metadata": {},
   "outputs": [],
   "source": []
  }
 ],
 "metadata": {
  "kernelspec": {
   "display_name": "Python 3 (ipykernel)",
   "language": "python",
   "name": "python3"
  },
  "language_info": {
   "codemirror_mode": {
    "name": "ipython",
    "version": 3
   },
   "file_extension": ".py",
   "mimetype": "text/x-python",
   "name": "python",
   "nbconvert_exporter": "python",
   "pygments_lexer": "ipython3",
   "version": "3.9.13"
  }
 },
 "nbformat": 4,
 "nbformat_minor": 5
}
