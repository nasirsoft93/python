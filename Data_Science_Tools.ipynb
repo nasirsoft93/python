{
 "cells": [
  {
   "cell_type": "markdown",
   "id": "6c039725-d589-45d7-b585-0c1ac8f1d63c",
   "metadata": {},
   "source": [
    "# Data Science Tools and Ecosystem"
   ]
  },
  {
   "cell_type": "markdown",
   "id": "6ec64ddf-9ecc-4649-ba10-9228ad20e2f8",
   "metadata": {},
   "source": [
    "## Introduction\n",
    "This notebook provides an overview of Data Science languages, libraries, and tools.  \n",
    "We will also demonstrate basic arithmetic operations using Python."
   ]
  },
  {
   "cell_type": "markdown",
   "id": "b31c5e6f-b176-46bb-9d6c-42a576f6ba99",
   "metadata": {},
   "source": [
    "## Data Science Languages\n",
    "Some popular languages used in Data Science are:  \n",
    "1. Python  \n",
    "2. R  \n",
    "3. SQL  \n",
    "4. Julia  \n",
    "5. Scala  "
   ]
  },
  {
   "cell_type": "markdown",
   "id": "30d4f3d6-674f-434f-91b6-5e59cbec99e7",
   "metadata": {},
   "source": [
    "## Data Science Libraries\n",
    "Commonly used Data Science libraries include:  \n",
    "- Pandas  \n",
    "- NumPy  \n",
    "- Scikit-learn  \n",
    "- TensorFlow  \n",
    "- Matplotlib"
   ]
  },
  {
   "cell_type": "markdown",
   "id": "151fe806-54d7-4cad-8e8e-94448fe71c44",
   "metadata": {},
   "source": [
    "## Data Science Tools\n",
    "\n",
    "| Tool Name      | Description |\n",
    "|---------------|-------------|\n",
    "| Jupyter Notebook | Interactive coding environment |\n",
    "| RStudio        | IDE for R programming |\n",
    "| Apache Spark   | Big data processing framework |\n",
    "| TensorFlow     | Machine learning framework |\n",
    "| Power BI       | Data visualization tool |"
   ]
  },
  {
   "cell_type": "markdown",
   "id": "1a567d08-be56-499f-8d27-d00645a1c400",
   "metadata": {},
   "source": [
    "## Arithmetic Expression Examples\n",
    "Below, we demonstrate basic arithmetic operations such as multiplication and addition."
   ]
  },
  {
   "cell_type": "code",
   "execution_count": 2,
   "id": "f2fdb8e1-56df-4d8e-b40c-2317fa6f513b",
   "metadata": {},
   "outputs": [
    {
     "data": {
      "text/plain": [
       "30"
      ]
     },
     "execution_count": 2,
     "metadata": {},
     "output_type": "execute_result"
    }
   ],
   "source": [
    "# This code multiplies and adds numbers\n",
    "result = (5 * 4) + 10\n",
    "result"
   ]
  },
  {
   "cell_type": "code",
   "execution_count": 3,
   "id": "65157ad4-f584-4edd-8c39-63b475055bad",
   "metadata": {},
   "outputs": [
    {
     "data": {
      "text/plain": [
       "2.0"
      ]
     },
     "execution_count": 3,
     "metadata": {},
     "output_type": "execute_result"
    }
   ],
   "source": [
    "# This code converts minutes to hours\n",
    "minutes = 120\n",
    "hours = minutes / 60\n",
    "hours"
   ]
  },
  {
   "cell_type": "markdown",
   "id": "9d19a1ab-0742-41fe-9e4c-60635fce31b6",
   "metadata": {},
   "source": [
    "## Objectives\n",
    "- List popular languages used in Data Science  \n",
    "- Identify commonly used Data Science libraries  \n",
    "- Understand various Data Science tools  \n",
    "- Demonstrate basic arithmetic operations in Python  \n",
    "- Convert time units using Python  "
   ]
  },
  {
   "cell_type": "markdown",
   "id": "8b0be377-c4d3-43ba-a305-39d517982b77",
   "metadata": {},
   "source": [
    "## Author\n",
    "**Muhammad Nasir**"
   ]
  },
  {
   "cell_type": "code",
   "execution_count": null,
   "id": "32461290-98bd-4438-8e90-48a66cc032db",
   "metadata": {},
   "outputs": [],
   "source": []
  }
 ],
 "metadata": {
  "kernelspec": {
   "display_name": "Python 3 (ipykernel)",
   "language": "python",
   "name": "python3"
  },
  "language_info": {
   "codemirror_mode": {
    "name": "ipython",
    "version": 3
   },
   "file_extension": ".py",
   "mimetype": "text/x-python",
   "name": "python",
   "nbconvert_exporter": "python",
   "pygments_lexer": "ipython3",
   "version": "3.12.8"
  }
 },
 "nbformat": 4,
 "nbformat_minor": 5
}
